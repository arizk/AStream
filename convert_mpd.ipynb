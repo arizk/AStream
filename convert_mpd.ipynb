{
 "cells": [
  {
   "cell_type": "code",
   "execution_count": 8,
   "metadata": {
    "collapsed": false
   },
   "outputs": [],
   "source": [
    "import untangle\n",
    "from lxml import etree, objectify\n",
    "from xml.dom import minidom\n",
    "NUMBER = [1,2,4,6,10,15]\n",
    "#FOLDER = './{0}sec'.format(NUM)\n",
    "#FILE = '{0}/TearsOfSteel_{1}s_simple_2014_05_09.mpd'.format(FOLDER, NUM)\n",
    "import glob\n",
    "import os\n"
   ]
  },
  {
   "cell_type": "code",
   "execution_count": 2,
   "metadata": {
    "collapsed": false
   },
   "outputs": [],
   "source": [
    "def getAllFiles(FOLDER, path):\n",
    "    res = []\n",
    "    print path\n",
    "    for filename in glob.glob(\"{}/{}/*.m4s\".format(FOLDER, path)):\n",
    "        res.append({'SegmentSize':  \n",
    "                    {'id' : os.path.basename(filename),\n",
    "                    'size' : str(os.path.getsize(filename)/8),\n",
    "                    'scale' : \"Kbits\"}})\n",
    "    return res"
   ]
  },
  {
   "cell_type": "code",
   "execution_count": 5,
   "metadata": {
    "collapsed": false
   },
   "outputs": [],
   "source": [
    "#etree.register_namespace(\"\", \"http://www.w3.org/2001\")\n",
    "def generateMPD(FILE, FOLDER):\n",
    "    tree = etree.parse(FILE)\n",
    "    root = tree.getroot()\n",
    "\n",
    "    segmenttemplate = root.findall('.//{urn:mpeg:dash:schema:mpd:2011}SegmentTemplate')[0]\n",
    "    segmenttemplate\n",
    "    adaptationset = root.findall('.//{urn:mpeg:dash:schema:mpd:2011}AdaptationSet')[0]\n",
    "    adaptationset.set('mimeType', \"video/mp4\")\n",
    "\n",
    "    for rep in root.findall('.//{urn:mpeg:dash:schema:mpd:2011}Representation'):\n",
    "        #el = root.createElement('{urn:mpeg:dash:schema:mpd:2011}RepresentationSegmentTemplate')\n",
    "        #el.setAttribute('timescale', rep.getAttribute('timescale'))\n",
    "        #add the segmenttampleta\n",
    "        etree.SubElement(rep, segmenttemplate.tag, segmenttemplate.attrib)\n",
    "        seg = rep.find(segmenttemplate.tag)\n",
    "        rep.set('duration', str(int(seg.get('duration'))/10))\n",
    "        newmedia = str.replace(seg.get('media'),'$Bandwidth$', rep.get('bandwidth'))\n",
    "        #newmedia = str.replace(seg.get('media'),'$Bandwidth$', rep.get('bandwidth'))\n",
    "        seg.set('media', newmedia)\n",
    "        seg.set('initialization', 'TearsOfSteel_10s__init.mp4')\n",
    "        #copy up mimetype\n",
    "        for el in getAllFiles(FOLDER, \"tos_{}bps\".format(rep.get('bandwidth'))):\n",
    "            #print el\n",
    "            etree.SubElement(rep, el.keys()[0], el.values()[0])\n",
    "\n",
    "    program = root.findall('.//{urn:mpeg:dash:schema:mpd:2011}ProgramInformation')[0]\n",
    "    program.getparent().remove(program)\n",
    "    role = root.findall('.//{urn:mpeg:dash:schema:mpd:2011}Role')[0]\n",
    "    role.getparent().remove(role)\n",
    "    segmenttemplate.getparent().remove(segmenttemplate)\n",
    "    tree.write(\"out.xml\")\n",
    "    #etree.dump(root)"
   ]
  },
  {
   "cell_type": "code",
   "execution_count": 10,
   "metadata": {
    "collapsed": false
   },
   "outputs": [
    {
     "name": "stdout",
     "output_type": "stream",
     "text": [
      "tos_10094289bps\n",
      "tos_6069277bps\n",
      "tos_4051094bps\n",
      "tos_3041642bps\n",
      "tos_2440206bps\n",
      "tos_1528495bps\n",
      "tos_815451bps\n",
      "tos_512117bps\n",
      "tos_256681bps\n",
      "./1sec/TearsOfSteel_1s_simple_2014_05_09.mpd\n",
      "tos_10068142bps\n",
      "tos_6045023bps\n",
      "tos_4028318bps\n",
      "tos_3020034bps\n",
      "tos_2427419bps\n",
      "tos_1516344bps\n",
      "tos_811035bps\n",
      "tos_507895bps\n",
      "tos_254655bps\n",
      "./2sec/TearsOfSteel_2s_simple_2014_05_09.mpd\n",
      "tos_10045361bps\n",
      "tos_6025488bps\n",
      "tos_4011653bps\n",
      "tos_3004351bps\n",
      "tos_2416099bps\n",
      "tos_1506971bps\n",
      "tos_807450bps\n",
      "tos_504741bps\n",
      "tos_253270bps\n",
      "./4sec/TearsOfSteel_4s_simple_2014_05_09.mpd\n",
      "tos_10036520bps\n",
      "tos_6017652bps\n",
      "tos_4004949bps\n",
      "tos_2998443bps\n",
      "tos_2412364bps\n",
      "tos_1503860bps\n",
      "tos_805931bps\n",
      "tos_503541bps\n",
      "tos_252760bps\n",
      "./6sec/TearsOfSteel_6s_simple_2014_05_09.mpd\n",
      "tos_10032076bps\n",
      "tos_6015039bps\n",
      "tos_4002620bps\n",
      "tos_2996709bps\n",
      "tos_2410744bps\n",
      "tos_1502443bps\n",
      "tos_805701bps\n",
      "tos_503242bps\n",
      "tos_252669bps\n",
      "./10sec/TearsOfSteel_10s_simple_2014_05_09.mpd\n",
      "tos_10027051bps\n",
      "tos_6010907bps\n",
      "tos_3998929bps\n",
      "tos_2993055bps\n",
      "tos_2408122bps\n",
      "tos_1500356bps\n",
      "tos_804736bps\n",
      "tos_502536bps\n",
      "tos_252324bps\n",
      "./15sec/TearsOfSteel_15s_simple_2014_05_09.mpd\n"
     ]
    }
   ],
   "source": [
    "for num in NUMBER:\n",
    "    FOLDER = './{0}sec'.format(num)\n",
    "    FILE = '{0}/TearsOfSteel_{1}s_simple_2014_05_09.mpd'.format(FOLDER, num)\n",
    "    OUT_FILE = '{0}/TearsOfSteel_{1}s_simple_2014_05_09_aplayer.mpd'.format(FOLDER, num)\n",
    "    generateMPD(FILE, FOLDER)\n",
    "    os.rename(\"out.xml\", OUT_FILE)\n",
    "    print FILE"
   ]
  },
  {
   "cell_type": "code",
   "execution_count": null,
   "metadata": {
    "collapsed": true
   },
   "outputs": [],
   "source": []
  },
  {
   "cell_type": "code",
   "execution_count": null,
   "metadata": {
    "collapsed": false
   },
   "outputs": [],
   "source": []
  },
  {
   "cell_type": "code",
   "execution_count": null,
   "metadata": {
    "collapsed": false
   },
   "outputs": [],
   "source": []
  },
  {
   "cell_type": "code",
   "execution_count": null,
   "metadata": {
    "collapsed": false
   },
   "outputs": [],
   "source": []
  },
  {
   "cell_type": "code",
   "execution_count": null,
   "metadata": {
    "collapsed": false
   },
   "outputs": [],
   "source": [
    "root.findall('.//{urn:mpeg:dash:schema:mpd:2011}SegmentTemplate')"
   ]
  },
  {
   "cell_type": "code",
   "execution_count": null,
   "metadata": {
    "collapsed": true
   },
   "outputs": [],
   "source": []
  }
 ],
 "metadata": {
  "kernelspec": {
   "display_name": "Python 2",
   "language": "python",
   "name": "python2"
  },
  "language_info": {
   "codemirror_mode": {
    "name": "ipython",
    "version": 2
   },
   "file_extension": ".py",
   "mimetype": "text/x-python",
   "name": "python",
   "nbconvert_exporter": "python",
   "pygments_lexer": "ipython2",
   "version": "2.7.12"
  }
 },
 "nbformat": 4,
 "nbformat_minor": 1
}
